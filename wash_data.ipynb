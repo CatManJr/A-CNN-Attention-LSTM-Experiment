{
 "cells": [
  {
   "cell_type": "markdown",
   "metadata": {},
   "source": [
    "### **数据清洗**"
   ]
  },
  {
   "cell_type": "code",
   "execution_count": 23,
   "metadata": {},
   "outputs": [
    {
     "data": {
      "text/plain": [
       "\"df = df.replace('', None)\\nprint(df['col1'].fillna(method = 'ffill'))\\ndf['col1'] = df['col1'].apply(extract_number)\\ndf\""
      ]
     },
     "execution_count": 23,
     "metadata": {},
     "output_type": "execute_result"
    }
   ],
   "source": [
    "import pandas as pd\n",
    "import numpy as np\n",
    "\n",
    "import re\n",
    "\n",
    "# 创建一个示例DataFrame\n",
    "df = pd.DataFrame({'col1': ['10.4A  e','','', '',  '    5.67B ', '0.61A  [4]']})\n",
    "\n",
    "# 定义一个函数来提取数字部分并将其转换为float\n",
    "def extract_number(text):\n",
    "    if text is None:\n",
    "        return None\n",
    "    text = text.strip()\n",
    "    return float(re.search(r'[\\d.]+', text).group())"
   ]
  },
  {
   "cell_type": "code",
   "execution_count": 60,
   "metadata": {},
   "outputs": [
    {
     "data": {
      "text/html": [
       "<div>\n",
       "<style scoped>\n",
       "    .dataframe tbody tr th:only-of-type {\n",
       "        vertical-align: middle;\n",
       "    }\n",
       "\n",
       "    .dataframe tbody tr th {\n",
       "        vertical-align: top;\n",
       "    }\n",
       "\n",
       "    .dataframe thead th {\n",
       "        text-align: right;\n",
       "    }\n",
       "</style>\n",
       "<table border=\"1\" class=\"dataframe\">\n",
       "  <thead>\n",
       "    <tr style=\"text-align: right;\">\n",
       "      <th></th>\n",
       "      <th>date</th>\n",
       "      <th>GH_mean</th>\n",
       "      <th>Perspaction</th>\n",
       "      <th>SoilMoisture</th>\n",
       "      <th>Discahrge_mean</th>\n",
       "    </tr>\n",
       "  </thead>\n",
       "  <tbody>\n",
       "    <tr>\n",
       "      <th>0</th>\n",
       "      <td>01/01/2008</td>\n",
       "      <td>6.82A</td>\n",
       "      <td>0.00A</td>\n",
       "      <td>8.5A</td>\n",
       "      <td>161A</td>\n",
       "    </tr>\n",
       "    <tr>\n",
       "      <th>1</th>\n",
       "      <td>01/02/2008</td>\n",
       "      <td>5.70A</td>\n",
       "      <td>0.00A</td>\n",
       "      <td>8.1A</td>\n",
       "      <td>78.5A</td>\n",
       "    </tr>\n",
       "    <tr>\n",
       "      <th>2</th>\n",
       "      <td>01/03/2008</td>\n",
       "      <td>5.16A</td>\n",
       "      <td>0.00A</td>\n",
       "      <td>7.8A</td>\n",
       "      <td>48.7A</td>\n",
       "    </tr>\n",
       "    <tr>\n",
       "      <th>3</th>\n",
       "      <td>01/04/2008</td>\n",
       "      <td>4.94A</td>\n",
       "      <td>0.00A</td>\n",
       "      <td>7.6A</td>\n",
       "      <td>38.9A</td>\n",
       "    </tr>\n",
       "    <tr>\n",
       "      <th>4</th>\n",
       "      <td>01/05/2008</td>\n",
       "      <td>4.85A</td>\n",
       "      <td>0.00A</td>\n",
       "      <td>7.5A</td>\n",
       "      <td>34.9A</td>\n",
       "    </tr>\n",
       "    <tr>\n",
       "      <th>...</th>\n",
       "      <td>...</td>\n",
       "      <td>...</td>\n",
       "      <td>...</td>\n",
       "      <td>...</td>\n",
       "      <td>...</td>\n",
       "    </tr>\n",
       "    <tr>\n",
       "      <th>5931</th>\n",
       "      <td>03/28/2024</td>\n",
       "      <td>7.77P</td>\n",
       "      <td>0.04P</td>\n",
       "      <td>23P</td>\n",
       "      <td>247P</td>\n",
       "    </tr>\n",
       "    <tr>\n",
       "      <th>5932</th>\n",
       "      <td>03/29/2024</td>\n",
       "      <td>7.08P</td>\n",
       "      <td>0.00P</td>\n",
       "      <td>20P</td>\n",
       "      <td>173P</td>\n",
       "    </tr>\n",
       "    <tr>\n",
       "      <th>5933</th>\n",
       "      <td>03/30/2024</td>\n",
       "      <td>6.02P</td>\n",
       "      <td>0.00P</td>\n",
       "      <td>19P</td>\n",
       "      <td>100P</td>\n",
       "    </tr>\n",
       "    <tr>\n",
       "      <th>5934</th>\n",
       "      <td>03/31/2024</td>\n",
       "      <td>5.68P</td>\n",
       "      <td>0.00P</td>\n",
       "      <td>18P</td>\n",
       "      <td>83.8P</td>\n",
       "    </tr>\n",
       "    <tr>\n",
       "      <th>5935</th>\n",
       "      <td>04/01/2024</td>\n",
       "      <td>5.54P</td>\n",
       "      <td>0.00P</td>\n",
       "      <td>17P</td>\n",
       "      <td>77.2P</td>\n",
       "    </tr>\n",
       "  </tbody>\n",
       "</table>\n",
       "<p>5936 rows × 5 columns</p>\n",
       "</div>"
      ],
      "text/plain": [
       "            date  GH_mean Perspaction SoilMoisture Discahrge_mean\n",
       "0     01/01/2008  6.82A       0.00A         8.5A           161A  \n",
       "1     01/02/2008  5.70A       0.00A         8.1A          78.5A  \n",
       "2     01/03/2008  5.16A       0.00A         7.8A          48.7A  \n",
       "3     01/04/2008  4.94A       0.00A         7.6A          38.9A  \n",
       "4     01/05/2008  4.85A       0.00A         7.5A          34.9A  \n",
       "...          ...      ...         ...          ...            ...\n",
       "5931  03/28/2024  7.77P       0.04P          23P           247P  \n",
       "5932  03/29/2024  7.08P       0.00P          20P           173P  \n",
       "5933  03/30/2024  6.02P       0.00P          19P           100P  \n",
       "5934  03/31/2024  5.68P       0.00P          18P          83.8P  \n",
       "5935  04/01/2024  5.54P       0.00P          17P          77.2P  \n",
       "\n",
       "[5936 rows x 5 columns]"
      ]
     },
     "execution_count": 60,
     "metadata": {},
     "output_type": "execute_result"
    }
   ],
   "source": [
    "df = pd.read_excel('USGS 02130840 BLACK CREEK BELOW CHESTERFIELD, SC.xlsx')\n",
    "df"
   ]
  },
  {
   "cell_type": "code",
   "execution_count": 61,
   "metadata": {},
   "outputs": [],
   "source": [
    "key = df['Perspaction'][3493]\n",
    "df = df.replace(key, None)\n",
    "df = df.replace('', None)\n",
    "df = df.replace(np.nan, None)\n",
    "\n",
    "df['GH_mean'] = df['GH_mean'].fillna(method = 'ffill')\n",
    "df['Perspaction'] = df['Perspaction'].fillna(method = 'ffill')\n",
    "df['SoilMoisture'] = df['SoilMoisture'].fillna(method = 'ffill')\n",
    "df['Discahrge_mean'] = df['Discahrge_mean'].fillna(method = 'ffill')\n",
    "\n",
    "df.isna().sum()\n",
    "\n",
    "df.to_excel('data2.xlsx', index=False)"
   ]
  },
  {
   "cell_type": "code",
   "execution_count": 62,
   "metadata": {},
   "outputs": [],
   "source": [
    "data = pd.read_excel('data2.xlsx')\n",
    "\n",
    "data['GH_mean'] = data['GH_mean'].apply(extract_number)\n",
    "data['Perspaction'] = data['Perspaction'].apply(extract_number)\n",
    "data['SoilMoisture'] = data['SoilMoisture'].apply(extract_number)\n",
    "data['Discahrge_mean'] = data['Discahrge_mean'].apply(extract_number)\n",
    "\n",
    "data.to_excel('data2.xlsx', index=False)"
   ]
  }
 ],
 "metadata": {
  "kernelspec": {
   "display_name": "base",
   "language": "python",
   "name": "python3"
  },
  "language_info": {
   "codemirror_mode": {
    "name": "ipython",
    "version": 3
   },
   "file_extension": ".py",
   "mimetype": "text/x-python",
   "name": "python",
   "nbconvert_exporter": "python",
   "pygments_lexer": "ipython3",
   "version": "3.10.9"
  }
 },
 "nbformat": 4,
 "nbformat_minor": 2
}
